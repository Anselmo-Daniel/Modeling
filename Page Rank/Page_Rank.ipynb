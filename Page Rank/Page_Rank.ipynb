{
  "nbformat": 4,
  "nbformat_minor": 0,
  "metadata": {
    "colab": {
      "provenance": []
    },
    "kernelspec": {
      "name": "python3",
      "display_name": "Python 3"
    },
    "language_info": {
      "name": "python"
    }
  },
  "cells": [
    {
      "cell_type": "markdown",
      "source": [
        "Aluno : Daniel Anselmo Nascimento de Souza"
      ],
      "metadata": {
        "id": "8J-r8bT7izg2"
      }
    },
    {
      "cell_type": "markdown",
      "source": [
        "# Algoritmo Page Rank"
      ],
      "metadata": {
        "id": "p_rnGH82VGUl"
      }
    },
    {
      "cell_type": "markdown",
      "source": [
        "## Contexto"
      ],
      "metadata": {
        "id": "IFFldeDyWdJq"
      }
    },
    {
      "cell_type": "markdown",
      "source": [
        "O PageRank foi concebido para medir a importância de páginas na Web, levando em conta a estrutura de links entre elas.\n",
        "\n",
        "A ideia central é que, se muitas páginas importantes apontam para uma determinada página, então esta página também deve ser considerada importante. Ou seja, não basta contar quantos links uma página recebe; é necessário considerar o “peso” (importância) de quem está apontando para ela. Esse processo é autorreferencial: o PageRank de uma página depende do PageRank das páginas que a linkam."
      ],
      "metadata": {
        "id": "ZxK6PdqzWhqu"
      }
    },
    {
      "cell_type": "markdown",
      "source": [
        "## Abordagem do Page Rank via Random Surfer Model"
      ],
      "metadata": {
        "id": "Fl0i4YdvWweq"
      }
    },
    {
      "cell_type": "markdown",
      "source": [
        "O PageRank pode ser interpretado através do comportamento de um “navegador aleatório” (chamado Randy no exemplo). Esse navegador segue duas estratégias:\n",
        "\n",
        "- Estratégia 1 (seguir links):\n",
        "Quando o usuário (Randy) está em uma página, ele analisa todos os links de saída dessa página e escolhe um deles aleatoriamente para clicar. Por exemplo, se a página atual tiver 5 links de saída, a probabilidade de escolher qualquer um desses links será 1/5.\n",
        "\n",
        "- Estratégia 2 (teletransporte):\n",
        "Em alguns casos, o navegador decide “pular” para uma página escolhida ao acaso dentre todas as páginas da Web, independentemente da página atual ou dos links nela contidos.\n",
        "\n",
        "Na prática, Randy atua 90% do tempo usando a Estratégia 1 (seguir links) e 10% do tempo usando a Estratégia 2 (teletransporte). Caso uma página não tenha links de saída, Randy obrigatoriamente recorre à Estratégia 2 para não ficar preso."
      ],
      "metadata": {
        "id": "yIQHVfFqW3hT"
      }
    },
    {
      "cell_type": "markdown",
      "source": [
        "### Modelagem com Cadeias de Markov\n"
      ],
      "metadata": {
        "id": "jugE36sxXa7x"
      }
    },
    {
      "cell_type": "markdown",
      "source": [
        "\n",
        "Para aplicar o PageRank, modelamos o problema como uma cadeia de Markov, em que:\n",
        "\n",
        "- Estados: Cada página da Web é um estado do modelo Markoviano.\n",
        "\n",
        "- Transições: A probabilidade de transitar de uma página (estado atual) para outra (estado futuro) é dada pelas estratégias de Randy.\n",
        "\n",
        "Teremos então uma matriz de transição, $M$, em que cada entrada $M_{ij}$ representa a probabilidade de ir da página $j$ para a página $i$. Note que a convenção aqui é usar colunas para representar a origem e linhas para o destino, o que é comum em muitas formulações do PageRank (a coluna $j$ da matriz mostra como a probabilidade flui da página $j$ para as outras páginas)."
      ],
      "metadata": {
        "id": "hppnRmnCXRyE"
      }
    },
    {
      "cell_type": "markdown",
      "source": [
        "#### Construindo as matrizes de transição:\n"
      ],
      "metadata": {
        "id": "vZA3uYZsXtyQ"
      }
    },
    {
      "cell_type": "markdown",
      "source": [
        "**Matriz $M_1$ (Estratégia 1)**\n",
        "\n",
        "A matriz de transição $M_1$ (de dimensão $n \\times n$) representa a probabilidade de, partindo da página $j$, chegar à página $i$ seguindo apenas links:\n",
        "\n",
        "$$\n",
        "(M_1)_{ij} =\n",
        "\\begin{cases}\n",
        "\\frac{1}{N_j}, & \\text{se há um link da página } j \\text{ para a página } i, \\\\[6pt]\n",
        "\\frac{1}{n}, & \\text{se a página } j \\text{ não tem links de saída}, \\\\[6pt]\n",
        "0, & \\text{caso contrário}.\n",
        "\\end{cases}\n",
        "$$\n",
        "\n",
        "Aqui, $N_j$ é o número de links de saída da página $j$. Se uma página não tem links, distribuímos a probabilidade de forma uniforme por todas as páginas, garantindo que a coluna da matriz $M_1$ referente a ela seja uma distribuição de probabilidade.\n"
      ],
      "metadata": {
        "id": "kzoZ7PPGXmht"
      }
    },
    {
      "cell_type": "markdown",
      "source": [
        "**Matriz $M_2$ (Estratégia 2)**\n",
        "\n",
        "A matriz de teletransporte $M_2$ é bem mais simples: a probabilidade de saltar para qualquer página é sempre uniforme e independe do estado anterior. Assim:\n",
        "\n",
        "$$ M_2 = \\frac{1}{n} J,$$\n",
        "\n",
        "onde $J$ é uma matriz $n \\times n$ cujas entradas são todas $1$. Isso implica que, não importa de qual página partimos, a distribuição de destino é $(\\frac{1}{n}, \\frac{1}{n}, \\dots, \\frac{1}{n})$."
      ],
      "metadata": {
        "id": "R8azfSFBYj96"
      }
    },
    {
      "cell_type": "markdown",
      "source": [
        "**A Matriz de Transição $M$ do PageRank**\n",
        "\n",
        "O comportamento de Randy é um misto das duas estratégias. Com probabilidade $(1-\\alpha)$ ele segue a matriz $M_1$ e com probabilidade $\\alpha$ ele segue $M_2$. Assim, a matriz final $M$ é dada por:\n",
        "\n",
        "$$\n",
        "M = (1-\\alpha)M_1 + \\alpha M_2.\n",
        "$$\n",
        "\n",
        "No caso clássico, $\\alpha = 0,1$, logo:\n",
        "\n",
        "$$M = \\frac{9}{10} M_1 + \\frac{1}{10} M_2.\n",
        "$$"
      ],
      "metadata": {
        "id": "V2oCabC7Y2g0"
      }
    },
    {
      "cell_type": "markdown",
      "source": [
        "### Distribuição Estacionária (PageRank)\n",
        "\n",
        "O PageRank de cada página é encontrado através da distribuição estacionária da cadeia de Markov descrita por $M$. A distribuição estacionária $\\mathbf{p}_\\infty$ é dada por:\n",
        "\n",
        "\n",
        "$$\n",
        "M \\mathbf{p}_\\infty = \\mathbf{p}_\\infty.\n",
        "$$\n",
        "\n",
        "Esse problema pode ser visto como um problema de autovalor e autovetor. O vetor $\\mathbf{p}_\\infty$ é o autovetor associado ao autovalor $1$ da matriz $M$\n"
      ],
      "metadata": {
        "id": "KdbgEyWVaXnT"
      }
    },
    {
      "cell_type": "markdown",
      "source": [
        "### Métodos de Cálculo do PageRank\n",
        "\n",
        "Para encontrar $\\mathbf{p}_\\infty$, podemos:\n",
        "\n",
        "- Resolver o sistema $(M - 1*I)\\mathbf{\\mathbf{p}_{\\infty}} = 0$:  \n",
        "  Encontramos o autovetor associado ao autovalor $1$.\n",
        "    \n",
        "- Iteração de Potência:  \n",
        "  Começamos com um vetor inicial $\\mathbf{p}^{(0)} \\neq 0$ e aplicamos $M$ repetidamente:\n",
        "\n",
        "  $$ \\mathbf{p}^{(k+1)} = \\frac{M \\mathbf{p}^{(k)}}{||M \\mathbf{p}^{(k)}||_{1}}. $$\n",
        "    \n",
        "  À medida que $k \\to \\infty$, $\\mathbf{p}^{(k)}$ converge para $\\mathbf{p}_\\infty$.\n",
        "\n",
        "O segundo método é mais escalável para a Web real, com bilhões de páginas."
      ],
      "metadata": {
        "id": "I3p3YmjvbVFK"
      }
    },
    {
      "cell_type": "markdown",
      "source": [
        "### Iteração de Potências"
      ],
      "metadata": {
        "id": "px5lbvHQJ7TU"
      }
    },
    {
      "cell_type": "markdown",
      "source": [
        "Como iremos além do exemplo do livro abaixo, usar o algoritmo de pagerank na prática para ilustrar sua funcionalidade, iremos agora fazer a análise do método de potências para uma Matriz $M$, sendo $M$ matriz de Markov"
      ],
      "metadata": {
        "id": "cxBDzzkwKBmE"
      }
    },
    {
      "cell_type": "markdown",
      "source": [
        "**Teorema**: Se M é uma matriz de markov, então seu maior autovalor é $\\lambda_1 = 1$\n",
        "\n",
        "**Demonstração**:\n",
        "\n",
        "Como $M$ é uma matriz de Markov => $M$ tem colunas que somam 1. Dessa forma, a matriz $M-I$ tem colunas que somam 0. Então se somarmos as linhas da matriz $M-I$ isso nos dá o vetor 0.\n",
        "\n",
        "Dessa forma existe uma combinação linear das linhas da matriz $M-I$, com coeficientes diferente de 0, que produz o vetor 0. Então temos que det(M-I) = 0, logo 1 é autovalor de M.\n",
        "\n",
        "Agora que sabemos que 1 é autovalor, iremos provar que ele é o maior autovalor de $M$.\n",
        "\n",
        "Seja $$ M = \\begin{bmatrix}\n",
        "    a_{11} & a_{12} & a_{13} & \\cdots & a_{1n} \\\\\n",
        "    a_{21} & a_{22} & a_{23} & \\cdots & a_{2n} \\\\\n",
        "    a_{31} & a_{32} & a_{33} & \\cdots & a_{3n} \\\\\n",
        "    \\vdots & \\vdots & \\vdots & \\ddots & \\vdots \\\\\n",
        "    a_{n1} & a_{n2} & a_{n3} & \\cdots & a_{nn}\n",
        "\\end{bmatrix} $$\n",
        "\n",
        "<br>\n",
        "\n",
        "$$ Mu = \\begin{bmatrix}\n",
        "    a_{11}u_1 + a_{12}u_2 + a_{13}u_3 + \\cdots + a_{1n}u_n \\\\\n",
        "    a_{21}u_1 + a_{22}u_2 + a_{23}u_3 + \\cdots + a_{2n}u_n \\\\\n",
        "    a_{31}u_1 + a_{32}u_2 + a_{33}u_3 + \\cdots + a_{3n}u_n \\\\\n",
        "    \\vdots  \\\\\n",
        "    a_{n1}u_1 + a_{n2}u_2 + a_{n3}u_3 + \\cdots + a_{nn}u_n\n",
        "\\end{bmatrix} $$\n",
        "\n",
        "(Aqui iremos usar $||.||_{1}$ para representar a norma 1)\n",
        "\n",
        "Seja $ u \\in R^{n} $, com $ u \\neq \\vec{0}$\n",
        "\n",
        "<br>\n",
        "\n",
        "\\begin{align}\n",
        "||Mu||_{1} &= \\sum_{i=1}^{n} |a_{i1}u_{1} +...+ a_{in}u_{n}| \\\\\n",
        "           &\\leq \\sum_{i=1}^{n} |a_{i1}u_{1}| + ... + |a_{in}u_{n}|  \\\\\n",
        "           &=  |u_1|\\cdot(|a_{11}| + ... + |a_{n1}|) + ... + |u_n|\\cdot(|a_{1n}| + ... +|a_{nn}|) \\\\\n",
        "           &= |u_1| + ... + |u_n| \\\\\n",
        "           &= ||u||_{1}\n",
        "\\end{align}\n",
        "\n",
        "Dessa forma, temos: $$ ||Mu||_{1} = ||\\lambda u||_{1} = |\\lambda| ||u||_{1} \\leq ||u||_{1} $$\n",
        "\n",
        "Portanto temos o resultado desejado: $$ \\lambda \\leq 1 $$"
      ],
      "metadata": {
        "id": "WzdFTaJWKi_m"
      }
    },
    {
      "cell_type": "markdown",
      "source": [
        "#### Prova da convergência do método para uma matriz $M$ markoviana"
      ],
      "metadata": {
        "id": "mL4X83biXmr0"
      }
    },
    {
      "cell_type": "markdown",
      "source": [
        "**Teorema**: Seja $u_1, u_2, ..., u_n$ uma base de autovetores de uma matriz markoviana $M \\in \\mathbb{R}^{n \\:\\text{x}\\: n}$, onde cada $u_i$ está associado a autovalores $\\lambda_i$, com $ |\\lambda_1| \\geq |\\lambda_2 \\geq ... \\geq |\\lambda_n| $. Suponha que $p_0$ está no subespaço gerado pelos autovetores, ou seja,\n",
        "\n",
        "$$ p_0 = c_1u_1 + ... + c_nu_n  $$\n",
        "\n",
        "com $c_1 \\neq 0$. Então, $p_k = A^kp_0$ converge para um múltiplo do autovetor dominante, $u_1$."
      ],
      "metadata": {
        "id": "2RwwudhAXuP6"
      }
    },
    {
      "cell_type": "markdown",
      "source": [
        "**Demonstração**:\n",
        "\n",
        "Seja $$ p0 = c_1u_1 +...+c_nu_n $$\n",
        "\n",
        "Se multiplicarmos ambos os lados por $ M^{k} $, temos:\n",
        "\n",
        "\\begin{align}\n",
        "M^kp_0 &= M^kc_1u_1 + ... + M^kc_nu_n \\\\\n",
        "       &= c_1u_1 + ... + \\lambda_n^kc_nv_n\n",
        "\\end{align}\n",
        "\n",
        "Note que:\n",
        "\n",
        "\\begin{align}\n",
        "|\\lambda_2^kc_2u_2 + ... + \\lambda_m^kc_nu_n| &\\leq |\\lambda_2|^k . |c_2u_2| + ... + |\\lambda_n|^k . |c_nu_n| \\\\\n",
        "\\end{align}\n",
        "\n",
        "<br>\n",
        "\n",
        "Todos os termos $|c_ju_j| $, com $ j \\geq 2 $ são constantes e são multiplicados por $|\\lambda_j|^k$.\n",
        "\n",
        "Para $j \\geq 2 $ os termos $|\\lambda_j|^k \\longrightarrow 0$ quando $k\\longrightarrow \\infty$\n",
        "\n",
        "Dessa forma, temos que:\n",
        "\n",
        "$$\n",
        "\\lim_{k \\to \\infty} M^kp_0 = c_1u_1,\n",
        "$$\n",
        "\n",
        "logo $p_k$ converge para um múltiplo do autovetor dominante, concluindo a demonstração."
      ],
      "metadata": {
        "id": "a27_40cjfe02"
      }
    },
    {
      "cell_type": "markdown",
      "source": [
        "### Exemplo do livro - Web Simplificada"
      ],
      "metadata": {
        "id": "aQZl7KEhZRzw"
      }
    },
    {
      "cell_type": "markdown",
      "source": [
        "No exemplo do livro, temos uma micro-web que é dada pelo grafo abaixo:\n",
        "\n",
        "![micro_web_savov.png](data:image/png;base64,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)"
      ],
      "metadata": {
        "id": "TGQtL90TZa1U"
      }
    },
    {
      "cell_type": "markdown",
      "source": [
        "#### Modelagem das Matrizes de Markov\n"
      ],
      "metadata": {
        "id": "2Iiy9YqnenzQ"
      }
    },
    {
      "cell_type": "markdown",
      "source": [
        "Estratégia 1 (Seguir Links):\n",
        "\n",
        "$$\n",
        "M_1 = \\begin{bmatrix}\n",
        "0 & 0 & \\frac{1}{2} & 0 & 0 & 0 & 0 & \\frac{1}{8} \\\\\n",
        "\\frac{1}{2} & 0 & 0 & 0 & 0 & 0 & 0 & \\frac{1}{8} \\\\\n",
        "0 & \\frac{1}{2} & 0 & 0 & 0 & \\frac{1}{2} & 0 & \\frac{1}{8} \\\\\n",
        "0 & 0 & 0 & 0 & \\frac{1}{2} & 0 & 0 & \\frac{1}{8} \\\\\n",
        "\\frac{1}{2} & \\frac{1}{2} & \\frac{1}{2} & 1 & 0 & 0 & \\frac{1}{2} & \\frac{1}{8} \\\\\n",
        "0 & 0 & 0 & 0 & \\frac{1}{2} & 0 & \\frac{1}{3} & \\frac{1}{8} \\\\\n",
        "0 & 0 & 0 & 0 & \\frac{1}{2} & \\frac{1}{2} & 0 & \\frac{1}{8} \\\\\n",
        "0 & 0 & 0 & 0 & 0 & 0 & \\frac{1}{3} & \\frac{1}{8}\n",
        "\\end{bmatrix}\n",
        "$$"
      ],
      "metadata": {
        "id": "oKGeFTmYd4PX"
      }
    },
    {
      "cell_type": "markdown",
      "source": [
        "Estratégia 2 (Teletransporte):\n",
        "\n",
        "\n",
        "$$\n",
        "M_2 = \\frac{1}{8} \\mathbf{J}_n =\n",
        "\\begin{bmatrix}\n",
        "\\frac{1}{8} & \\frac{1}{8} & \\frac{1}{8} & \\frac{1}{8} & \\frac{1}{8} & \\frac{1}{8} & \\frac{1}{8} & \\frac{1}{8} \\\\\n",
        "\\frac{1}{8} & \\frac{1}{8} & \\frac{1}{8} & \\frac{1}{8} & \\frac{1}{8} & \\frac{1}{8} & \\frac{1}{8} & \\frac{1}{8} \\\\\n",
        "\\frac{1}{8} & \\frac{1}{8} & \\frac{1}{8} & \\frac{1}{8} & \\frac{1}{8} & \\frac{1}{8} & \\frac{1}{8} & \\frac{1}{8} \\\\\n",
        "\\frac{1}{8} & \\frac{1}{8} & \\frac{1}{8} & \\frac{1}{8} & \\frac{1}{8} & \\frac{1}{8} & \\frac{1}{8} & \\frac{1}{8} \\\\\n",
        "\\frac{1}{8} & \\frac{1}{8} & \\frac{1}{8} & \\frac{1}{8} & \\frac{1}{8} & \\frac{1}{8} & \\frac{1}{8} & \\frac{1}{8} \\\\\n",
        "\\frac{1}{8} & \\frac{1}{8} & \\frac{1}{8} & \\frac{1}{8} & \\frac{1}{8} & \\frac{1}{8} & \\frac{1}{8} & \\frac{1}{8} \\\\\n",
        "\\frac{1}{8} & \\frac{1}{8} & \\frac{1}{8} & \\frac{1}{8} & \\frac{1}{8} & \\frac{1}{8} & \\frac{1}{8} & \\frac{1}{8} \\\\\n",
        "\\frac{1}{8} & \\frac{1}{8} & \\frac{1}{8} & \\frac{1}{8} & \\frac{1}{8} & \\frac{1}{8} & \\frac{1}{8} & \\frac{1}{8} \\\\\n",
        "\\end{bmatrix}\n",
        "$$"
      ],
      "metadata": {
        "id": "HRzJ2_e7ebsr"
      }
    },
    {
      "cell_type": "markdown",
      "source": [
        "Combinação das Estratégias\n",
        "\n",
        "$$\n",
        "M = (1 - \\alpha)M_1 + \\frac{\\alpha}{8} \\mathbf{J}\n",
        "$$\n",
        "\n",
        "$$\n",
        " = \\frac{9}{10} M_1 + \\frac{1}{80}\\mathbf{J},\n",
        "$$"
      ],
      "metadata": {
        "id": "K8uu2BG3erL2"
      }
    },
    {
      "cell_type": "markdown",
      "source": [
        "#### Achando a distribuição Estacionária $\\mathbf{p}_\\infty$"
      ],
      "metadata": {
        "id": "L_4ufSrye-fR"
      }
    },
    {
      "cell_type": "code",
      "execution_count": null,
      "metadata": {
        "colab": {
          "base_uri": "https://localhost:8080/"
        },
        "id": "iRz0KsAQU_bt",
        "outputId": "fb3836be-9878-4be3-d2c0-e727717efdb3"
      },
      "outputs": [
        {
          "output_type": "stream",
          "name": "stdout",
          "text": [
            "PageRank aproximado:\n",
            "Página 1: 0.08152\n",
            "Página 2: 0.05868\n",
            "Página 3: 0.13229\n",
            "Página 4: 0.02199\n",
            "Página 5: 0.22678\n",
            "Página 6: 0.18643\n",
            "Página 7: 0.20794\n",
            "Página 8: 0.08437\n",
            " \n",
            "Soma das probabilidades: 1.0\n"
          ]
        }
      ],
      "source": [
        "import numpy as np\n",
        "\n",
        "# Definindo a matriz M do micro-Web conforme o exemplo do livro.\n",
        "\n",
        "# Matriz M_1\n",
        "M_1 = np.array([\n",
        "[  0,   0, 1/2, 0,   0,   0,   0, 1/8],\n",
        "[1/2,   0,   0, 0,   0,   0,   0, 1/8],\n",
        "[  0, 1/2,   0, 0,   0, 1/2,   0, 1/8],\n",
        "[  0,   0,   0, 0,   0,   0,   0, 1/8],\n",
        "[1/2, 1/2, 1/2, 1,   0,   0, 1/3, 1/8],\n",
        "[  0,   0,   0, 0, 1/2,   0, 1/3, 1/8],\n",
        "[  0,   0,   0, 0, 1/2, 1/2,   0, 1/8],\n",
        "[  0,   0,   0, 0,   0,   0, 1/3, 1/8]])\n",
        "\n",
        "# Número de páginas\n",
        "n = M_1.shape[0]\n",
        "\n",
        "# Matriz M_2\n",
        "M_2 = np.ones((n,n))/n\n",
        "\n",
        "M = 9/10 *M_1 + 1/10 *M_2\n",
        "\n",
        "# Inicializa a distribuição com probabilidades uniformes\n",
        "p0 = np.ones(n)/n\n",
        "\n",
        "def power_iteration(M, p, tol):\n",
        "  #Valor grande para entrar no while\n",
        "  diff = 1000\n",
        "\n",
        "  while diff > tol:\n",
        "    p_new = (M @ p)/np.linalg.norm(M @ p, 1)  # Atualiza a distribuição\n",
        "    diff = np.linalg.norm(p_new - p, 1)  # Norma L1 da diferença\n",
        "    p = p_new\n",
        "\n",
        "  return p\n",
        "\n",
        "p_inf = power_iteration(M, p0, 1e-12)\n",
        "\n",
        "# p agora é a distribuição estacionária aproximada (PageRank)\n",
        "print(\"PageRank aproximado:\")\n",
        "for i, val in enumerate(p_inf, start=1):\n",
        "    print(f\"Página {i}: {val:.5f}\")\n",
        "\n",
        "print(\" \")\n",
        "# Podemos checar se a soma é 1 (ou próximo a 1 devido a arredondamentos)\n",
        "print(\"Soma das probabilidades:\", np.sum(p_inf))"
      ]
    },
    {
      "cell_type": "code",
      "source": [
        "import requests\n",
        "from bs4 import BeautifulSoup\n",
        "from urllib.parse import urljoin, urlparse\n",
        "import numpy as np"
      ],
      "metadata": {
        "id": "RWb37u3eoKWU"
      },
      "execution_count": null,
      "outputs": []
    },
    {
      "cell_type": "code",
      "source": [
        "def get_links_from_url(url, domain_filter=None):\n",
        "    \"\"\"Retorna uma lista de links (URLs completas) encontrados na página 'url'\n",
        "    que estejam no mesmo domínio (se domain_filter for especificado).\"\"\"\n",
        "    links = set()\n",
        "    try:\n",
        "        response = requests.get(url, timeout=5)\n",
        "        if response.status_code != 200:\n",
        "            return list(links)\n",
        "        html = response.text\n",
        "        soup = BeautifulSoup(html, 'html.parser')\n",
        "\n",
        "        for a_tag in soup.find_all('a', href=True):\n",
        "            href = a_tag['href'].strip()\n",
        "            # Converte link relativo em absoluto\n",
        "            full_url = urljoin(url, href)\n",
        "            parsed_url = urlparse(full_url)\n",
        "\n",
        "            # Filtro de domínio\n",
        "            if domain_filter and domain_filter not in parsed_url.netloc:\n",
        "                continue\n",
        "\n",
        "            # Filtra tipos de arquivos não HTML\n",
        "            if any(full_url.lower().endswith(ext) for ext in ['.pdf','.jpg','.jpeg','.png','.gif','.zip','.rar','.doc','.docx','.xls','.xlsx']):\n",
        "                continue\n",
        "\n",
        "            # Remove ancoragem interna\n",
        "            full_url = full_url.split('#')[0]\n",
        "\n",
        "            # Adiciona somente URLs iniciando com http\n",
        "            if full_url.startswith('http') and full_url != url:\n",
        "                links.add(full_url)\n",
        "\n",
        "    except Exception:\n",
        "        # Em caso de erro (timeout, conexão falhou, etc.), retornar vazio\n",
        "        pass\n",
        "\n",
        "    return list(links)"
      ],
      "metadata": {
        "id": "lZ5cPJAgovPa"
      },
      "execution_count": null,
      "outputs": []
    },
    {
      "cell_type": "code",
      "source": [
        "# Função cacheada para não repetir crawling da mesma página\n",
        "crawled_cache = {}\n",
        "def get_links_cached(url, domain_filter=None):\n",
        "    if url in crawled_cache:\n",
        "        return crawled_cache[url]\n",
        "    found_links = get_links_from_url(url, domain_filter=domain_filter)\n",
        "    crawled_cache[url] = found_links\n",
        "    return found_links"
      ],
      "metadata": {
        "id": "4HVUx9MtuHuB"
      },
      "execution_count": null,
      "outputs": []
    },
    {
      "cell_type": "code",
      "source": [
        "# Parâmetros\n",
        "root_url = \"https://ge.globo.com/\"\n",
        "parsed_root = urlparse(root_url)\n",
        "domain = parsed_root.netloc"
      ],
      "metadata": {
        "id": "msLc4riEj6J4"
      },
      "execution_count": null,
      "outputs": []
    },
    {
      "cell_type": "code",
      "source": [
        "# Limites\n",
        "max_level_1 = 500  # Máximo de links do primeiro nível\n",
        "max_level_2 = 50  # Máximo de links do segundo nível por link do primeiro nível"
      ],
      "metadata": {
        "id": "6tKPvdj127-T"
      },
      "execution_count": null,
      "outputs": []
    },
    {
      "cell_type": "code",
      "source": [
        "# Coletar links do primeiro nível\n",
        "level_1_links = get_links_cached(root_url, domain_filter=domain)\n",
        "level_1_links = level_1_links[:max_level_1]\n",
        "\n",
        "\n",
        "# Coletar links do segundo nível\n",
        "level_2_links = []\n",
        "# Pode limitar o número de links processados no primeiro nível para evitar excesso\n",
        "for link in level_1_links:\n",
        "    new_links = get_links_cached(link, domain_filter=domain)\n",
        "    new_links = new_links[:max_level_2]\n",
        "    level_2_links.extend(new_links)\n",
        "\n",
        "# Remover duplicatas, unir tudo: raiz, primeiro nível e segundo nível\n",
        "all_links = set([root_url] + level_1_links + level_2_links)\n",
        "all_links = list(all_links)\n",
        "n = len(all_links)"
      ],
      "metadata": {
        "id": "R7pH2QmBuLjT"
      },
      "execution_count": null,
      "outputs": []
    },
    {
      "cell_type": "code",
      "source": [
        "print(f\"Total de páginas no 1 level: {len(level_1_links)}\")\n",
        "print(f\"Total de páginas no 2 level: {len(level_2_links)}\")\n",
        "print(f\"Total de páginas coletadas: {n}\")"
      ],
      "metadata": {
        "colab": {
          "base_uri": "https://localhost:8080/"
        },
        "id": "d75Pg51MomOk",
        "outputId": "3a61cea6-c197-4a46-eb05-6ff2b41feebc"
      },
      "execution_count": null,
      "outputs": [
        {
          "output_type": "stream",
          "name": "stdout",
          "text": [
            "Total de páginas no 1 level: 317\n",
            "Total de páginas no 2 level: 15592\n",
            "Total de páginas coletadas: 876\n"
          ]
        }
      ]
    },
    {
      "cell_type": "code",
      "source": [
        "all_links[0:10]"
      ],
      "metadata": {
        "colab": {
          "base_uri": "https://localhost:8080/"
        },
        "id": "xuWXFWnYuUa4",
        "outputId": "eda597a8-3c8f-4148-821f-17670d198f26"
      },
      "execution_count": null,
      "outputs": [
        {
          "output_type": "execute_result",
          "data": {
            "text/plain": [
              "['https://ge.globo.com/motor/formula-1/noticia/2024/12/19/alonso-usa-macacao-e-dirige-carro-de-senna-na-mclaren-veja.ghtml',\n",
              " 'https://ge.globo.com/combate/',\n",
              " 'https://ge.globo.com/cartola/dicas/',\n",
              " 'https://ge.globo.com/futebol/futebol-internacional/futebol-italiano/noticia/2024/12/11/bove-da-fiorentina-passa-por-cirurgia-apos-mal-subito-e-pode-ter-que-deixar-a-italia-entenda.ghtml',\n",
              " 'https://ge.globo.com/ro/futebol/noticia/2024/12/18/meu-jogo-e-agressivo-ex-brazuca-luis-henrique-acerta-contrato-de-formacao-com-o-criciuma.ghtml',\n",
              " 'https://ge.globo.com/pe/futebol/pernambucano-serie-a2/',\n",
              " 'https://ge.globo.com/sp/campinas-e-regiao/futebol/times/inter-de-limeira/',\n",
              " 'https://ge.globo.com/atletismo/noticia/2024/12/06/australiano-de-16-anos-impressiona-no-atletismo-e-e-comparado-a-bolt-veja-video.ghtml',\n",
              " 'https://ge.globo.com/am/futebol/times/manauara/noticia/2024/12/19/com-manoel-ex-altos-e-ryan-ex-sport-como-novidades-manauara-apresenta-elenco-para-2025.ghtml',\n",
              " 'https://ge.globo.com/basquete/copa-do-mundo-de-basquete-masculino/noticia/2023/08/24/jogos-do-brasil-copa-do-mundo-de-basquete-2023-datas-e-horarios.ghtml']"
            ]
          },
          "metadata": {},
          "execution_count": 9
        }
      ]
    },
    {
      "cell_type": "code",
      "source": [
        "# Criar um índice para cada página\n",
        "index_map = {url: i for i, url in enumerate(all_links)}\n",
        "\n",
        "# Preencher outlinks sem repetir crawling, usando cache\n",
        "outlinks = {}\n",
        "for url in all_links:\n",
        "    found_links = get_links_cached(url, domain_filter=domain)\n",
        "    # Filtra somente as que estão em all_links\n",
        "    filtered_links = [l for l in found_links if l in index_map]\n",
        "    outlinks[url] = filtered_links"
      ],
      "metadata": {
        "id": "Zjy2_NsnrkUO"
      },
      "execution_count": null,
      "outputs": []
    },
    {
      "cell_type": "code",
      "source": [
        "# Construir M1\n",
        "M1 = np.zeros((n, n))\n",
        "for j, url in enumerate(all_links):\n",
        "    targets = outlinks[url]\n",
        "    if len(targets) == 0:\n",
        "        # Página sem links de saída: coluna j uniforme\n",
        "        M1[:, j] = 1.0/n\n",
        "    else:\n",
        "        val = 1.0/len(targets)\n",
        "        for t in targets:\n",
        "            i = index_map[t]\n",
        "            M1[i, j] = val\n",
        "\n",
        "# Construir M2 (teletransporte)\n",
        "M2 = np.ones((n, n))*(1.0/n)\n",
        "\n",
        "alpha = 0.1\n",
        "M = (1 - alpha)*M1 + alpha*M2\n",
        "p0 = np.ones(n)/n\n",
        "\n",
        "p_inf = power_iteration(M, p0, 1e-8)\n",
        "\n",
        "print(\"\\nPageRank das páginas encontradas (top 20):\")\n",
        "ranked_pages = sorted(zip(all_links, p_inf), key=lambda x: x[1], reverse=True)\n",
        "for url, pr in ranked_pages[:20]:\n",
        "    print(url, pr)\n",
        "\n",
        "print(\" \")\n",
        "print(\"Soma das probabilidades:\", np.sum(p_inf))"
      ],
      "metadata": {
        "colab": {
          "base_uri": "https://localhost:8080/"
        },
        "id": "iarpJulAsb6u",
        "outputId": "9fa7ca23-e013-4b43-9af1-80ed30fe3bc0"
      },
      "execution_count": null,
      "outputs": [
        {
          "output_type": "stream",
          "name": "stdout",
          "text": [
            "\n",
            "PageRank das páginas encontradas (top 20):\n",
            "https://gatomestre.ge.globo.com/cartola/gato-mestre/ 0.004082592299054342\n",
            "https://ge.globo.com/sp/tem-esporte/futebol/times/mirassol/ 0.0029528661123866084\n",
            "https://gatomestre.ge.globo.com/pre-temporada-2024/ 0.002887542009846671\n",
            "https://ge.globo.com/premiere/ajuda/ 0.002887542009846671\n",
            "https://ge.globo.com/combate/ajuda/ 0.002887542009846671\n",
            "https://ge.globo.com/premiere/ 0.002887542009846671\n",
            "https://ge.globo.com/combate/canal-combate-24h/ 0.002887542009846671\n",
            "https://interativos.ge.globo.com/podcasts/programa/ponte-aerea/ 0.0028795185834116946\n",
            "https://ge.globo.com/podcasts/ 0.0028794435747507272\n",
            "https://ge.globo.com/olimpiadas/noticia/2023/03/14/paris-2024-veja-classificacao-de-cada-esporte-para-as-olimpiadas.ghtml 0.0028793671503868157\n",
            "https://ge.globo.com/futebol/futebol-internacional/liga-dos-campeoes/ 0.002879341354048981\n",
            "https://ge.globo.com/futebol/times/sao-paulo/ 0.002879341354048981\n",
            "https://ge.globo.com/futebol/brasileirao-serie-a/ 0.002879315394391503\n",
            "https://ge.globo.com/sp/futebol/copa-paulista/ 0.0028793153943915024\n",
            "https://ge.globo.com/futebol/futebol-internacional/futebol-italiano/ 0.0028792892698584604\n",
            "https://ge.globo.com/basquete/lbf/ 0.0028792892698584604\n",
            "https://ge.globo.com/eu-atleta/saude-mental/ 0.0028792892698584604\n",
            "https://ge.globo.com/tenis/ 0.0028792892698584604\n",
            "https://ge.globo.com/futebol/times/flamengo/ 0.00287928926985846\n",
            "https://ge.globo.com/mg/futebol/mineiro-modulo-2/ 0.00287928926985846\n",
            " \n",
            "Soma das probabilidades: 1.0\n"
          ]
        }
      ]
    },
    {
      "cell_type": "markdown",
      "source": [
        "## Referências\n",
        "\n",
        "No Bullshit Guide to Linear Algebra - Ivan Savov\n",
        "\n",
        "https://en.wikipedia.org/wiki/Power_iteration\n",
        "\n",
        "<br>\n",
        "\n",
        "Na parte de provar que a matriz markoviana tem seu maior autovalor igual a 1\n",
        "\n",
        "Introduction to Linear Algebra by Gilbert Strang"
      ],
      "metadata": {
        "id": "dxpGxGzDs_7e"
      }
    }
  ]
}